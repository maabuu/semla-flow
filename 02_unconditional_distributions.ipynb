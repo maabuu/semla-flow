{
 "cells": [
  {
   "cell_type": "markdown",
   "metadata": {},
   "source": [
    "# Plot distributions"
   ]
  },
  {
   "cell_type": "code",
   "execution_count": null,
   "metadata": {},
   "outputs": [],
   "source": [
    "import pandas as pd\n",
    "from plotly import express as px\n",
    "from tqdm import tqdm\n",
    "import seaborn as sns\n",
    "from matplotlib import pyplot as plt"
   ]
  },
  {
   "cell_type": "markdown",
   "metadata": {},
   "source": [
    "## Load data"
   ]
  },
  {
   "cell_type": "code",
   "execution_count": null,
   "metadata": {},
   "outputs": [],
   "source": [
    "df_gcdm = pd.read_csv(\"predictions/unconditional/gcdm_100000_predictions.csv\")\n",
    "df_gcdm[\"method\"] = \"GCDM-SBDD\"\n",
    "df_semla = pd.read_csv(\"predictions/unconditional/semlaflow_100000_predictions.csv\")\n",
    "df_semla[\"method\"] = \"SemlaFlow\"\n",
    "df_flowmol = pd.read_csv(\"predictions/unconditional/molflow_100000_predictions.csv\")\n",
    "df_flowmol[\"method\"] = \"FlowMol\"\n",
    "df_train = pd.read_csv(\"data/unconditional/geom-drugs/train.csv\")\n",
    "df_train[\"method\"] = \"GEOM Drugs Training\"\n",
    "# df_val = pd.read_csv(\"predictions_data/val.csv\")\n",
    "# df_val[\"method\"] = \"GEOM Drugs Validation\"\n",
    "# df_test = pd.read_csv(\"predictions_data/test.csv\")\n",
    "# df_test[\"method\"] = \"GEOM Drugs Testing\"\n",
    "df = pd.concat([df_flowmol, df_gcdm, df_semla, df_train])"
   ]
  },
  {
   "cell_type": "markdown",
   "metadata": {},
   "source": [
    "## Name metrics"
   ]
  },
  {
   "cell_type": "code",
   "execution_count": null,
   "metadata": {},
   "outputs": [],
   "source": [
    "metrics = {\n",
    "    \"ensemble_avg_energy\": \"Ensemble Average Energy\",\n",
    "    \"mol_pred_energy\": \"Molecular Prediction Energy\",\n",
    "    \"energy_ratio\": \"Energy Ratio\",\n",
    "    \"sa\": \"Synthetic Accessability Score\",\n",
    "    \"sa_normalized\": \"Synthetic Accessability Score (normalized)\",\n",
    "    \"spacial\": \"Spacial Score\",\n",
    "    \"qed\": \"Quantitative Estimation of Drug-likeness\",\n",
    "    \"logp\": \"LogP\",\n",
    "    \"lipinski\": \"Lipinski Rule of 5\",\n",
    "    \"num_heavy\": \"Number of Heavy Atoms\",\n",
    "    \"weight\": \"Molecular Weight\",\n",
    "    \"num_rings\": \"Number of Rings\",\n",
    "}"
   ]
  },
  {
   "cell_type": "markdown",
   "metadata": {},
   "source": [
    "## Plot one"
   ]
  },
  {
   "cell_type": "code",
   "execution_count": null,
   "metadata": {},
   "outputs": [],
   "source": [
    "# seaborn\n",
    "\n",
    "metric = \"logp\"  # lipophilicity\n",
    "metric = \"sa\"\n",
    "name = metrics[metric]\n",
    "sns.histplot(\n",
    "    df[[\"method\", metric]].reset_index(drop=True),\n",
    "    x=metric,\n",
    "    hue=\"method\",\n",
    "    bins=100,\n",
    "    cumulative=False,\n",
    "    common_norm=False,\n",
    "    stat=\"density\",\n",
    "    element=\"step\",\n",
    "    # legend=True, palette=\"tab10\", linewidth=1.5\n",
    ")\n",
    "plt.title(name)\n",
    "plt.xlabel(name)\n",
    "plt.xlim(0, 10)"
   ]
  },
  {
   "cell_type": "code",
   "execution_count": null,
   "metadata": {},
   "outputs": [],
   "source": [
    "# seaborn\n",
    "\n",
    "metric = \"logp\"  # lipophilicity\n",
    "metric = \"sa\"\n",
    "metric = \"spacial\"\n",
    "name = metrics[metric]\n",
    "sns.histplot(\n",
    "    df[[\"method\", metric]].reset_index(drop=True),\n",
    "    x=metric,\n",
    "    hue=\"method\",\n",
    "    bins=100,\n",
    "    cumulative=False,\n",
    "    common_norm=False,\n",
    "    stat=\"density\",\n",
    "    element=\"step\",\n",
    "    # legend=True, palette=\"tab10\", linewidth=1.5\n",
    ")\n",
    "plt.title(name)\n",
    "plt.xlabel(name)\n",
    "plt.xlim(0, 120)"
   ]
  },
  {
   "cell_type": "code",
   "execution_count": null,
   "metadata": {},
   "outputs": [],
   "source": [
    "# seaborn\n",
    "\n",
    "metric = \"logp\"  # lipophilicity\n",
    "metric = \"sa\"\n",
    "metric = \"qed\"\n",
    "name = metrics[metric]\n",
    "sns.histplot(\n",
    "    df[[\"method\", metric]].reset_index(drop=True),\n",
    "    x=metric,\n",
    "    hue=\"method\",\n",
    "    bins=100,\n",
    "    cumulative=False,\n",
    "    common_norm=False,\n",
    "    stat=\"density\",\n",
    "    element=\"step\",\n",
    "    # legend=True, palette=\"tab10\", linewidth=1.5\n",
    ")\n",
    "plt.title(name)\n",
    "plt.xlabel(name)\n",
    "plt.xlim(0, 1)"
   ]
  },
  {
   "cell_type": "code",
   "execution_count": null,
   "metadata": {},
   "outputs": [],
   "source": [
    "# seaborn\n",
    "\n",
    "metric = \"energy_ratio\"\n",
    "name = \"Energy Ratio\"\n",
    "sns.histplot(\n",
    "    df[[\"method\", metric]].reset_index(drop=True),\n",
    "    x=metric,\n",
    "    hue=\"method\",\n",
    "    cumulative=False,\n",
    "    common_norm=False,\n",
    "    stat=\"density\",\n",
    "    element=\"step\",\n",
    "    log_scale=True if metric == \"energy_ratio\" else False,\n",
    "    # legend=True, palette=\"tab10\", linewidth=1.5\n",
    ")\n",
    "plt.title(name)\n",
    "plt.xlabel(name)\n",
    "plt.xlim(0.5, 20)\n",
    "# plt.savefig(f\"plots/plot_{metric}.png\")\n",
    "# plt.close()"
   ]
  },
  {
   "cell_type": "markdown",
   "metadata": {},
   "source": [
    "## Plot and save all"
   ]
  },
  {
   "cell_type": "code",
   "execution_count": null,
   "metadata": {},
   "outputs": [],
   "source": [
    "for metric, name in tqdm(metrics.items()):\n",
    "    sns.histplot(\n",
    "        df[[\"method\", metric]].reset_index(drop=True),\n",
    "        x=metric,\n",
    "        hue=\"method\",\n",
    "        cumulative=False,\n",
    "        common_norm=False,\n",
    "        stat=\"density\",\n",
    "        element=\"step\",\n",
    "        # legend=True, palette=\"tab10\", linewidth=1.5\n",
    "    )\n",
    "    plt.title(name)\n",
    "    plt.xlabel(name)\n",
    "    plt.savefig(f\"plots/unconditonal/plot_{metric}.png\")\n",
    "    plt.close()"
   ]
  },
  {
   "cell_type": "code",
   "execution_count": null,
   "metadata": {},
   "outputs": [],
   "source": []
  },
  {
   "cell_type": "code",
   "execution_count": null,
   "metadata": {},
   "outputs": [],
   "source": []
  },
  {
   "cell_type": "code",
   "execution_count": null,
   "metadata": {},
   "outputs": [],
   "source": []
  },
  {
   "cell_type": "markdown",
   "metadata": {},
   "source": [
    "# OLD"
   ]
  },
  {
   "cell_type": "code",
   "execution_count": null,
   "metadata": {},
   "outputs": [],
   "source": [
    "sns.histplot(\n",
    "    df[df.method.str.startswith(\"GEOM\")][[\"method\", metric]].reset_index(drop=True),\n",
    "    x=metric,\n",
    "    hue=\"method\",\n",
    "    cumulative=False,\n",
    "    fill=False,\n",
    "    common_norm=False,\n",
    "    stat=\"density\",\n",
    "    element=\"step\",\n",
    "    log_scale=True if metric == \"energy_ratio\" else False,\n",
    "    # legend=True, palette=\"tab10\", linewidth=1.5\n",
    ")\n",
    "sns.histplot(\n",
    "    df[~df.method.str.startswith(\"GEOM\")][[\"method\", metric]].reset_index(drop=True),\n",
    "    x=metric,\n",
    "    hue=\"method\",\n",
    "    cumulative=False,\n",
    "    fill=True,\n",
    "    common_norm=False,\n",
    "    stat=\"density\",\n",
    "    element=\"step\",\n",
    "    log_scale=True if metric == \"energy_ratio\" else False,\n",
    "    # legend=True, palette=\"tab10\", linewidth=1.5\n",
    ")\n",
    "plt.title(name)\n",
    "plt.xlabel(name)\n",
    "plt.xlim(0.5, 20)\n",
    "plt.show()"
   ]
  },
  {
   "cell_type": "code",
   "execution_count": null,
   "metadata": {},
   "outputs": [],
   "source": []
  },
  {
   "cell_type": "code",
   "execution_count": null,
   "metadata": {},
   "outputs": [],
   "source": []
  }
 ],
 "metadata": {
  "kernelspec": {
   "display_name": "evaluation",
   "language": "python",
   "name": "python3"
  },
  "language_info": {
   "codemirror_mode": {
    "name": "ipython",
    "version": 3
   },
   "file_extension": ".py",
   "mimetype": "text/x-python",
   "name": "python",
   "nbconvert_exporter": "python",
   "pygments_lexer": "ipython3",
   "version": "3.11.11"
  }
 },
 "nbformat": 4,
 "nbformat_minor": 2
}
