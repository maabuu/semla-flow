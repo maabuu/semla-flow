{
 "cells": [
  {
   "cell_type": "markdown",
   "metadata": {},
   "source": [
    "# GEOM DRUGS processing"
   ]
  },
  {
   "cell_type": "code",
   "execution_count": null,
   "metadata": {},
   "outputs": [],
   "source": [
    "import os\n",
    "import sys"
   ]
  },
  {
   "cell_type": "code",
   "execution_count": null,
   "metadata": {},
   "outputs": [],
   "source": [
    "project_dir = os.path.join(os.path.abspath(\"\"))\n",
    "sys.path.append(project_dir)"
   ]
  },
  {
   "cell_type": "code",
   "execution_count": null,
   "metadata": {},
   "outputs": [],
   "source": [
    "from functools import partial\n",
    "from pathlib import Path\n",
    "\n",
    "import pandas as pd\n",
    "import rdkit\n",
    "from rdkit import Chem, rdBase\n",
    "from rdkit.Chem import rdDepictor\n",
    "from rdkit.Chem.Draw import IPythonConsole\n",
    "from rdkit.Chem.rdmolfiles import SDMolSupplier, SDWriter\n",
    "from rdkit.Chem.rdmolops import RemoveHs, SanitizeMol, AddHs\n",
    "from tqdm import tqdm\n",
    "\n",
    "import semlaflow.scriptutil as util\n",
    "from semlaflow.data.datasets import GeometricDataset\n"
   ]
  },
  {
   "cell_type": "code",
   "execution_count": null,
   "metadata": {},
   "outputs": [],
   "source": [
    "rdBase.DisableLog(\"rdApp.warning\")  # disable waning on MorganGenerator\n",
    "rdDepictor.SetPreferCoordGen(True)\n",
    "print(rdkit.__version__)"
   ]
  },
  {
   "cell_type": "markdown",
   "metadata": {},
   "source": [
    "## Load dataset from Semla files"
   ]
  },
  {
   "cell_type": "code",
   "execution_count": null,
   "metadata": {},
   "outputs": [],
   "source": [
    "dataset_path = project_dir + \"/data/geom-drugs/smol/test.smol\"\n",
    "\n",
    "n_molecules = 100\n",
    "n_bond_types = 5\n",
    "vocab = util.build_vocab()\n",
    "coord_std = util.GEOM_COORDS_STD_DEV\n",
    "transform = partial(\n",
    "    util.mol_transform, vocab=vocab, n_bonds=n_bond_types, coord_std=coord_std\n",
    ")\n",
    "dataset = GeometricDataset.load(dataset_path, transform=transform)"
   ]
  },
  {
   "cell_type": "markdown",
   "metadata": {},
   "source": [
    "## Convert one to RDKit"
   ]
  },
  {
   "cell_type": "code",
   "execution_count": null,
   "metadata": {},
   "outputs": [],
   "source": [
    "dataset._data[0].to_rdkit(vocab)"
   ]
  },
  {
   "cell_type": "markdown",
   "metadata": {},
   "source": [
    "## Convert smol files to sdf files"
   ]
  },
  {
   "cell_type": "code",
   "execution_count": null,
   "metadata": {},
   "outputs": [],
   "source": [
    "dataset_path = project_dir + \"/data/geom-drugs/smol/test.smol\"\n",
    "\n",
    "n_bond_types = 5\n",
    "vocab = util.build_vocab()\n",
    "coord_std = util.GEOM_COORDS_STD_DEV\n",
    "transform = partial(\n",
    "    util.mol_transform, vocab=vocab, n_bonds=n_bond_types, coord_std=coord_std\n",
    ")\n",
    "dataset = GeometricDataset.load(dataset_path, transform=transform)\n",
    "\n",
    "file = \"test.sdf\"\n",
    "writer = SDWriter(file)\n",
    "for data in tqdm(dataset._data):\n",
    "    mol = data.to_rdkit(vocab)\n",
    "    writer.write(mol)"
   ]
  },
  {
   "cell_type": "code",
   "execution_count": null,
   "metadata": {},
   "outputs": [],
   "source": [
    "dataset_path = project_dir + \"/data/geom-drugs/smol/val.smol\"\n",
    "\n",
    "n_bond_types = 5\n",
    "vocab = util.build_vocab()\n",
    "coord_std = util.GEOM_COORDS_STD_DEV\n",
    "transform = partial(\n",
    "    util.mol_transform, vocab=vocab, n_bonds=n_bond_types, coord_std=coord_std\n",
    ")\n",
    "dataset = GeometricDataset.load(dataset_path, transform=transform)\n",
    "\n",
    "file = \"val.sdf\"\n",
    "writer = SDWriter(file)\n",
    "for data in tqdm(dataset._data):\n",
    "    mol = data.to_rdkit(vocab)\n",
    "    writer.write(mol)"
   ]
  },
  {
   "cell_type": "code",
   "execution_count": null,
   "metadata": {},
   "outputs": [],
   "source": [
    "dataset_path = project_dir + \"/data/geom-drugs/smol/train.smol\"\n",
    "\n",
    "n_bond_types = 5\n",
    "vocab = util.build_vocab()\n",
    "coord_std = util.GEOM_COORDS_STD_DEV\n",
    "transform = partial(\n",
    "    util.mol_transform, vocab=vocab, n_bonds=n_bond_types, coord_std=coord_std\n",
    ")\n",
    "dataset = GeometricDataset.load(dataset_path, transform=transform)\n",
    "\n",
    "file = \"train.sdf\"\n",
    "writer = SDWriter(file)\n",
    "for data in tqdm(dataset._data):\n",
    "    mol = data.to_rdkit(vocab)\n",
    "    writer.write(mol)"
   ]
  },
  {
   "cell_type": "markdown",
   "metadata": {},
   "source": [
    "## Convert smol files to smiles"
   ]
  },
  {
   "cell_type": "code",
   "execution_count": null,
   "metadata": {},
   "outputs": [],
   "source": [
    "dataset_path = project_dir + \"/data/geom-drugs/smol/train.smol\"\n",
    "\n",
    "n_bond_types = 5\n",
    "vocab = util.build_vocab()\n",
    "coord_std = util.GEOM_COORDS_STD_DEV\n",
    "transform = partial(\n",
    "    util.mol_transform, vocab=vocab, n_bonds=n_bond_types, coord_std=coord_std\n",
    ")\n",
    "dataset = GeometricDataset.load(dataset_path, transform=transform)\n"
   ]
  },
  {
   "cell_type": "code",
   "execution_count": null,
   "metadata": {},
   "outputs": [],
   "source": [
    "def smol_to_smiles(smol):\n",
    "    try:\n",
    "        mol = smol.to_rdkit(vocab)\n",
    "        # mol = AddHs(mol, addCoords=True)\n",
    "        mol = RemoveHs(mol)\n",
    "        smiles = Chem.MolToSmiles(mol, canonical=True)\n",
    "    except:\n",
    "        return None\n",
    "    return smiles"
   ]
  },
  {
   "cell_type": "code",
   "execution_count": null,
   "metadata": {},
   "outputs": [],
   "source": [
    "smiles = [smol_to_smiles(smol) for smol in tqdm(dataset._data)]\n",
    "smiles = set(smiles) - set([None, \"\"])\n",
    "len(smiles)"
   ]
  },
  {
   "cell_type": "code",
   "execution_count": null,
   "metadata": {},
   "outputs": [],
   "source": [
    "with open(\"evaluation/truth/train.smiles\", \"w\") as f:\n",
    "    for s in smiles:\n",
    "        f.write(s + \"\\n\")"
   ]
  },
  {
   "cell_type": "code",
   "execution_count": null,
   "metadata": {},
   "outputs": [],
   "source": []
  },
  {
   "cell_type": "code",
   "execution_count": null,
   "metadata": {},
   "outputs": [],
   "source": []
  },
  {
   "cell_type": "code",
   "execution_count": null,
   "metadata": {},
   "outputs": [],
   "source": []
  }
 ],
 "metadata": {
  "kernelspec": {
   "display_name": "evaluation",
   "language": "python",
   "name": "python3"
  },
  "language_info": {
   "codemirror_mode": {
    "name": "ipython",
    "version": 3
   },
   "file_extension": ".py",
   "mimetype": "text/x-python",
   "name": "python",
   "nbconvert_exporter": "python",
   "pygments_lexer": "ipython3",
   "version": "3.12.8"
  }
 },
 "nbformat": 4,
 "nbformat_minor": 2
}
