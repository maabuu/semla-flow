{
 "cells": [
  {
   "cell_type": "markdown",
   "metadata": {
    "vscode": {
     "languageId": "plaintext"
    }
   },
   "source": [
    "## Evaluate fragment linkings"
   ]
  },
  {
   "cell_type": "code",
   "execution_count": null,
   "metadata": {},
   "outputs": [],
   "source": [
    "from pathlib import Path\n",
    "import numpy as np\n",
    "import pandas as pd\n",
    "import seaborn as sns\n",
    "from matplotlib import pyplot as plt\n",
    "from plotly import express as px\n",
    "from tqdm import tqdm"
   ]
  },
  {
   "cell_type": "markdown",
   "metadata": {},
   "source": [
    "## Load data"
   ]
  },
  {
   "cell_type": "code",
   "execution_count": null,
   "metadata": {},
   "outputs": [],
   "source": [
    "pred_dir = Path(\"/homes/buttensc/Projects/semla-flow/predictions/fragment\")\n",
    "files = list(pred_dir.glob(\"*.csv\"))\n",
    "dfs = []\n",
    "for file in tqdm(files):\n",
    "    df = pd.read_csv(file)\n",
    "    parts = Path(file).stem.split(\"_\")\n",
    "    df[\"method\"] = \" \".join(parts[0:2]) + \" \" + (parts[3] if len(parts) > 4 else \"\")\n",
    "    df[\"comparison\"] = parts[-1]\n",
    "    df = df.dropna(subset=[\"Reference molecule\"])\n",
    "    dfs.append(df)\n",
    "df = pd.concat(dfs).sort_values([\"method\", \"Reference molecule\"])\n"
   ]
  },
  {
   "cell_type": "code",
   "execution_count": null,
   "metadata": {},
   "outputs": [],
   "source": [
    "df"
   ]
  },
  {
   "cell_type": "markdown",
   "metadata": {},
   "source": [
    "## Metrics"
   ]
  },
  {
   "cell_type": "code",
   "execution_count": null,
   "metadata": {},
   "outputs": [],
   "source": [
    "metrics = {\"sucos\": \"SuCOS\", \"tanimoto\": \"ECFP4 Bit Tanimoto\"}"
   ]
  },
  {
   "cell_type": "code",
   "execution_count": null,
   "metadata": {},
   "outputs": [],
   "source": [
    "metric = \"sucos\"\n",
    "name = metrics[metric]\n",
    "\n",
    "g = sns.FacetGrid(df, col=\"comparison\", hue=\"method\", height=5, aspect=1.3)\n",
    "g.map(\n",
    "    sns.histplot,\n",
    "    metric,\n",
    "    bins=50,\n",
    "    common_norm=False,\n",
    "    stat=\"density\",\n",
    "    element=\"step\",\n",
    "    # kde=True,\n",
    "    fill=False,\n",
    ")\n",
    "g.add_legend()"
   ]
  },
  {
   "cell_type": "code",
   "execution_count": null,
   "metadata": {},
   "outputs": [],
   "source": [
    "metric = \"tanimoto\"\n",
    "name = metrics[metric]\n",
    "\n",
    "g = sns.FacetGrid(df, col=\"comparison\", hue=\"method\", height=5, aspect=1.3)\n",
    "g.map(\n",
    "    sns.histplot,\n",
    "    metric,\n",
    "    bins=50,\n",
    "    common_norm=False,\n",
    "    stat=\"density\",\n",
    "    element=\"step\",\n",
    "    # kde=True,\n",
    "    fill=False,\n",
    ")\n",
    "g.add_legend()"
   ]
  },
  {
   "cell_type": "code",
   "execution_count": null,
   "metadata": {},
   "outputs": [],
   "source": [
    "g = sns.FacetGrid(df, col=\"method\", row=\"comparison\", height=3, aspect=1.3)\n",
    "g.map(sns.kdeplot, \"num_atoms_cond\", \"num_atoms_pred\")"
   ]
  },
  {
   "cell_type": "code",
   "execution_count": null,
   "metadata": {},
   "outputs": [],
   "source": []
  },
  {
   "cell_type": "code",
   "execution_count": null,
   "metadata": {},
   "outputs": [],
   "source": []
  },
  {
   "cell_type": "code",
   "execution_count": null,
   "metadata": {},
   "outputs": [],
   "source": []
  },
  {
   "cell_type": "code",
   "execution_count": null,
   "metadata": {},
   "outputs": [],
   "source": [
    "## Try pairing the data\n",
    "pred_dir = Path(\"/homes/buttensc/Projects/semla-flow/predictions/fragment\")\n",
    "files = list(pred_dir.glob(\"*.csv\"))\n",
    "dfs_linker, dfs_fragment = [], []\n",
    "for file in tqdm(files):\n",
    "    comparison = parts[-1]\n",
    "    if comparison == \"linker\":\n",
    "        df = pd.read_csv(file)\n",
    "        parts = Path(file).stem.split(\"_\")\n",
    "        df[\"method\"] = \" \".join(parts[0:2]) + \" \" + (parts[3] if len(parts) > 4 else \"\")\n",
    "        df = df.dropna(subset=[\"Reference molecule\"])\n",
    "        dfs_linker.append(df)\n",
    "    elif comparison == \"fragment\":\n",
    "        df = pd.read_csv(file)\n",
    "        parts = Path(file).stem.split(\"_\")\n",
    "        df[\"method\"] = \" \".join(parts[0:2]) + \" \" + (parts[3] if len(parts) > 4 else \"\")\n",
    "        df = df.dropna(subset=[\"Reference molecule\"])\n",
    "        dfs_fragment.append(df)\n",
    "df_linker = (\n",
    "    pd.concat(dfs_linker)\n",
    "    .sort_values([\"method\", \"Reference molecule\"])\n",
    "    .set_index([\"smiles_pred\", \"Reference molecule\"])\n",
    ")\n",
    "df_fragment = (\n",
    "    pd.concat(dfs_fragment)\n",
    "    .sort_values([\"method\", \"Reference molecule\"])\n",
    "    .set_index([\"smiles_pred\", \"Reference molecule\"])\n",
    ")\n"
   ]
  },
  {
   "cell_type": "code",
   "execution_count": null,
   "metadata": {},
   "outputs": [],
   "source": []
  }
 ],
 "metadata": {
  "kernelspec": {
   "display_name": "evaluation",
   "language": "python",
   "name": "python3"
  },
  "language_info": {
   "codemirror_mode": {
    "name": "ipython",
    "version": 3
   },
   "file_extension": ".py",
   "mimetype": "text/x-python",
   "name": "python",
   "nbconvert_exporter": "python",
   "pygments_lexer": "ipython3",
   "version": "3.11.11"
  }
 },
 "nbformat": 4,
 "nbformat_minor": 2
}
