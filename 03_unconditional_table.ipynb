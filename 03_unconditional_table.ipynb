{
 "cells": [
  {
   "cell_type": "markdown",
   "metadata": {},
   "source": [
    "# Generate table values"
   ]
  },
  {
   "cell_type": "code",
   "execution_count": null,
   "metadata": {},
   "outputs": [],
   "source": [
    "import pandas as pd\n",
    "from plotly import express as px\n",
    "from tqdm import tqdm\n",
    "import numpy as np"
   ]
  },
  {
   "cell_type": "markdown",
   "metadata": {},
   "source": [
    "## Load data"
   ]
  },
  {
   "cell_type": "code",
   "execution_count": null,
   "metadata": {},
   "outputs": [],
   "source": [
    "df_gcdm = pd.read_csv(\"predictions/unconditional/gcdm_100000_predictions.csv\")\n",
    "df_gcdm[\"method\"] = \"GCDM-SBDD\"\n",
    "df_semla = pd.read_csv(\"predictions/unconditional/semlaflow_100000_predictions.csv\")\n",
    "df_semla[\"method\"] = \"SemlaFlow\"\n",
    "df_flowmol = pd.read_csv(\"predictions/unconditional/molflow_100000_predictions.csv\")\n",
    "df_flowmol[\"method\"] = \"FlowMol\"\n",
    "df_train = pd.read_csv(\"data/unconditional/geom-drugs/train.csv\")\n",
    "df_train[\"method\"] = \"GEOM Drugs Training\"\n",
    "# df_val = pd.read_csv(\"evaluation/truth/val.csv\")\n",
    "# df_val[\"method\"] = \"GEOM Drugs Validation\"\n",
    "# df_test = pd.read_csv(\"evaluation/truth/test.csv\")\n",
    "# df_test[\"method\"] = \"GEOM Drugs Testing\"\n",
    "df = pd.concat([df_flowmol, df_gcdm, df_semla, df_train])\n",
    "\n",
    "df[\"connected\"] = df[\"connected\"].astype(float).fillna(False)\n",
    "df[\"chemical\"] = df[\"chemical\"].astype(float).fillna(False)\n",
    "df[\"physical\"] = df[\"physical\"].astype(float).fillna(False)\n",
    "df[\"fail\"] = df[\"fail\"].astype(float).fillna(False)"
   ]
  },
  {
   "cell_type": "code",
   "execution_count": null,
   "metadata": {},
   "outputs": [],
   "source": [
    "cols = [\n",
    "    \"fail\",\n",
    "    \"connected\",\n",
    "    \"chemical\",\n",
    "    \"physical\",\n",
    "    \"ensemble_avg_energy\",\n",
    "    \"mol_pred_energy\",\n",
    "    \"energy_ratio\",\n",
    "    \"sa\",\n",
    "    \"sa_normalized\",\n",
    "    \"spacial\",\n",
    "    \"qed\",\n",
    "    \"logp\",\n",
    "    \"lipinski\",\n",
    "    \"num_heavy\",\n",
    "    \"weight\",\n",
    "    \"num_rings\",\n",
    "]\n"
   ]
  },
  {
   "cell_type": "code",
   "execution_count": null,
   "metadata": {},
   "outputs": [],
   "source": [
    "# make wide into long table\n",
    "df_long = pd.melt(df, id_vars=[\"smiles\", \"method\"], value_vars=cols).drop(\n",
    "    columns=[\"smiles\"]\n",
    ")"
   ]
  },
  {
   "cell_type": "code",
   "execution_count": null,
   "metadata": {},
   "outputs": [],
   "source": [
    "df_long[\"value\"] = df_long[\"value\"].astype(float)"
   ]
  },
  {
   "cell_type": "code",
   "execution_count": null,
   "metadata": {},
   "outputs": [],
   "source": [
    "pd.set_option(\"display.max_rows\", 150)"
   ]
  },
  {
   "cell_type": "code",
   "execution_count": null,
   "metadata": {},
   "outputs": [],
   "source": [
    "df_desc = df_long.groupby([\"method\", \"variable\"]).describe()\n",
    "# swap axes"
   ]
  },
  {
   "cell_type": "code",
   "execution_count": null,
   "metadata": {},
   "outputs": [],
   "source": [
    "# swap axes\n",
    "df_tab = (\n",
    "    df_desc.drop(columns=[\"count\"], level=1)\n",
    "    .unstack()\n",
    "    .T.reset_index()\n",
    "    .rename(columns={\"level_1\": \"agg\"})\n",
    "    .drop(columns=[\"level_0\"])\n",
    "    .set_index([\"agg\", \"variable\"])\n",
    ")\n",
    "# format to 2 decimal places\n",
    "df_tab.applymap(lambda x: \"{:.2f}\".format(x))"
   ]
  },
  {
   "cell_type": "markdown",
   "metadata": {},
   "source": [
    "# Break into subtables? Shown here for MEAN"
   ]
  },
  {
   "cell_type": "code",
   "execution_count": null,
   "metadata": {},
   "outputs": [],
   "source": [
    "df_mean = df_long.groupby([\"method\", \"variable\"]).std()  # sum() / 1e5\n",
    "df_mean.index.name = None\n",
    "df_mean = df_mean.unstack()\n",
    "df_mean.index.name = None\n",
    "df_mean = df_mean.droplevel(0, axis=1)\n",
    "df_mean.index.name = None\n"
   ]
  },
  {
   "cell_type": "code",
   "execution_count": null,
   "metadata": {},
   "outputs": [],
   "source": [
    "methods = [\"GCDM-SBDD\", \"SemlaFlow\", \"FlowMol\"]\n",
    "data = [\"GEOM Drugs Training\", \"GEOM Drugs Validation\", \"GEOM Drugs Testing\"]"
   ]
  },
  {
   "cell_type": "code",
   "execution_count": null,
   "metadata": {},
   "outputs": [],
   "source": [
    "# sanity\n",
    "cols = [\"fail\", \"connected\", \"chemical\", \"physical\"]\n",
    "df_mean.loc[methods, cols].map(lambda x: \"{:.2f}\".format(x))"
   ]
  },
  {
   "cell_type": "markdown",
   "metadata": {},
   "source": [
    "NOTE:\n",
    "- Check that the mean here is correct and is not missing the NAN values.\n",
    "- Every method should have generated 100 000 molecules and so the failures should be relative to this number.\n"
   ]
  },
  {
   "cell_type": "code",
   "execution_count": null,
   "metadata": {},
   "outputs": [],
   "source": [
    "# descriptors\n",
    "cols = [\"num_heavy\", \"weight\", \"num_rings\", \"logp\"]\n",
    "df_mean.loc[methods, cols].map(lambda x: \"{:.2f}\".format(x))"
   ]
  },
  {
   "cell_type": "code",
   "execution_count": null,
   "metadata": {},
   "outputs": [],
   "source": [
    "# molecular scores - molecule\n",
    "cols = [\"sa\", \"spacial\", \"qed\", \"lipinski\"]\n",
    "df_mean.loc[methods, cols].map(lambda x: \"{:.2f}\".format(x))"
   ]
  },
  {
   "cell_type": "code",
   "execution_count": null,
   "metadata": {},
   "outputs": [],
   "source": [
    "# pose scores - conformation\n",
    "cols = [\"ensemble_avg_energy\", \"energy_ratio\"]\n",
    "df_mean.loc[methods, cols].map(lambda x: \"{:.2f}\".format(x))"
   ]
  },
  {
   "cell_type": "markdown",
   "metadata": {},
   "source": [
    "# Uniqueness and novelty"
   ]
  },
  {
   "cell_type": "code",
   "execution_count": null,
   "metadata": {},
   "outputs": [],
   "source": [
    "# training_smiles = set(l.strip() for l in open(\"evaluation/truth/train.smiles\").readlines())\n",
    "training_smiles = set(df[df.method == \"GEOM Drugs Training\"][\"smiles\"].dropna()) - {\n",
    "    None,\n",
    "    \"\",\n",
    "    pd.NA,\n",
    "    np.nan,\n",
    "}"
   ]
  },
  {
   "cell_type": "code",
   "execution_count": null,
   "metadata": {},
   "outputs": [],
   "source": [
    "def compute_uniqueness(smiles: list[str]) -> float:\n",
    "    \"\"\"Compute the uniqueness of a list of SMILES strings.\"\"\"\n",
    "    valid_smiles = [s for s in smiles if s not in {None, \"\", pd.NA, np.nan}]\n",
    "    return len(set(valid_smiles)) / len(valid_smiles)\n",
    "\n",
    "\n",
    "def compute_novelty(\n",
    "    smiles: list[str], training_smiles: set[str] = training_smiles\n",
    ") -> float:\n",
    "    \"\"\"Compute the novelty of a list of SMILES strings.\"\"\"\n",
    "    valid_smiles = [s for s in smiles if s not in {None, \"\", pd.NA, np.nan}]\n",
    "    novel_smiles = [s for s in valid_smiles if s not in training_smiles]\n",
    "    return len(novel_smiles) / len(valid_smiles)\n"
   ]
  },
  {
   "cell_type": "code",
   "execution_count": null,
   "metadata": {},
   "outputs": [],
   "source": [
    "# uniqueness - out of the valid predictions, how many unique ones are there?\n",
    "df.groupby(\"method\")[\"smiles\"].apply(compute_uniqueness)"
   ]
  },
  {
   "cell_type": "code",
   "execution_count": null,
   "metadata": {},
   "outputs": [],
   "source": [
    "# novelty - out of the valid smiles, how many are not in the training set?\n",
    "df.groupby(\"method\")[\"smiles\"].apply(compute_novelty)"
   ]
  },
  {
   "cell_type": "code",
   "execution_count": null,
   "metadata": {},
   "outputs": [],
   "source": []
  },
  {
   "cell_type": "code",
   "execution_count": null,
   "metadata": {},
   "outputs": [],
   "source": []
  }
 ],
 "metadata": {
  "kernelspec": {
   "display_name": "evaluation",
   "language": "python",
   "name": "python3"
  },
  "language_info": {
   "codemirror_mode": {
    "name": "ipython",
    "version": 3
   },
   "file_extension": ".py",
   "mimetype": "text/x-python",
   "name": "python",
   "nbconvert_exporter": "python",
   "pygments_lexer": "ipython3",
   "version": "3.11.11"
  }
 },
 "nbformat": 4,
 "nbformat_minor": 2
}
